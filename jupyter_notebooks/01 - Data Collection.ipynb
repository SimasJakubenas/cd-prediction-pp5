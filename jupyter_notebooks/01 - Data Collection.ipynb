{
  "cells": [
    {
      "cell_type": "markdown",
      "metadata": {
        "id": "0aStgWSO0E0E"
      },
      "source": [
        "# **Data Collection Notebook**"
      ]
    },
    {
      "cell_type": "markdown",
      "metadata": {
        "id": "1eLEkw5O0ECa"
      },
      "source": [
        "## Objectives\n",
        "\n",
        "* Fetch data from Kaggle and save it as raw data.\n",
        "* Inspect the data and save it under outputs/datasets/collection\n",
        "\n",
        "## Inputs\n",
        "\n",
        "* Kaggle JSON file and authentication token. \n",
        "\n",
        "## Outputs\n",
        "\n",
        "* Generate Dataset: outputs/datasets/collection/heart_disease.csv\n",
        "\n",
        "## Additional Comments\n",
        "\n",
        "* This data is coming from an open, public source and poses no ethical or privacy concerns.\n"
      ]
    },
    {
      "cell_type": "markdown",
      "metadata": {
        "id": "9uWZXH9LwoQg"
      },
      "source": [
        "---"
      ]
    },
    {
      "cell_type": "markdown",
      "metadata": {
        "id": "cqP-UeN-z3i2"
      },
      "source": [
        "# Change working directory"
      ]
    },
    {
      "cell_type": "markdown",
      "metadata": {},
      "source": [
        "* Install python packages in the notebooks"
      ]
    },
    {
      "cell_type": "code",
      "execution_count": 1,
      "metadata": {},
      "outputs": [
        {
          "name": "stdout",
          "output_type": "stream",
          "text": [
            "Requirement already satisfied: streamlit==0.85.0 in /workspace/.pip-modules/lib/python3.8/site-packages (from -r /workspace/cd-prediction-pp5/requirements.txt (line 1)) (0.85.0)\n",
            "Requirement already satisfied: altair<5 in /workspace/.pip-modules/lib/python3.8/site-packages (from -r /workspace/cd-prediction-pp5/requirements.txt (line 2)) (4.2.2)\n",
            "Requirement already satisfied: numpy==1.18.5 in /workspace/.pip-modules/lib/python3.8/site-packages (from -r /workspace/cd-prediction-pp5/requirements.txt (line 4)) (1.18.5)\n",
            "Requirement already satisfied: pandas==1.4.2 in /workspace/.pip-modules/lib/python3.8/site-packages (from -r /workspace/cd-prediction-pp5/requirements.txt (line 5)) (1.4.2)\n",
            "Requirement already satisfied: matplotlib==3.3.1 in /workspace/.pip-modules/lib/python3.8/site-packages (from -r /workspace/cd-prediction-pp5/requirements.txt (line 6)) (3.3.1)\n",
            "Requirement already satisfied: seaborn==0.11.0 in /workspace/.pip-modules/lib/python3.8/site-packages (from -r /workspace/cd-prediction-pp5/requirements.txt (line 7)) (0.11.0)\n",
            "Requirement already satisfied: ydata-profiling==4.4.0 in /workspace/.pip-modules/lib/python3.8/site-packages (from -r /workspace/cd-prediction-pp5/requirements.txt (line 9)) (4.4.0)\n",
            "Requirement already satisfied: ipywidgets==8.0.2 in /workspace/.pip-modules/lib/python3.8/site-packages (from -r /workspace/cd-prediction-pp5/requirements.txt (line 10)) (8.0.2)\n",
            "Requirement already satisfied: astor in /workspace/.pip-modules/lib/python3.8/site-packages (from streamlit==0.85.0->-r /workspace/cd-prediction-pp5/requirements.txt (line 1)) (0.8.1)\n",
            "Requirement already satisfied: attrs in /home/gitpod/.pyenv/versions/3.8.18/lib/python3.8/site-packages (from streamlit==0.85.0->-r /workspace/cd-prediction-pp5/requirements.txt (line 1)) (23.2.0)\n",
            "Requirement already satisfied: base58 in /workspace/.pip-modules/lib/python3.8/site-packages (from streamlit==0.85.0->-r /workspace/cd-prediction-pp5/requirements.txt (line 1)) (2.1.1)\n",
            "Requirement already satisfied: blinker in /workspace/.pip-modules/lib/python3.8/site-packages (from streamlit==0.85.0->-r /workspace/cd-prediction-pp5/requirements.txt (line 1)) (1.8.2)\n",
            "Requirement already satisfied: cachetools>=4.0 in /workspace/.pip-modules/lib/python3.8/site-packages (from streamlit==0.85.0->-r /workspace/cd-prediction-pp5/requirements.txt (line 1)) (5.3.3)\n",
            "Requirement already satisfied: click<8.0,>=7.0 in /workspace/.pip-modules/lib/python3.8/site-packages (from streamlit==0.85.0->-r /workspace/cd-prediction-pp5/requirements.txt (line 1)) (7.1.2)\n",
            "Requirement already satisfied: packaging in /home/gitpod/.pyenv/versions/3.8.18/lib/python3.8/site-packages (from streamlit==0.85.0->-r /workspace/cd-prediction-pp5/requirements.txt (line 1)) (24.1)\n",
            "Requirement already satisfied: pillow>=6.2.0 in /workspace/.pip-modules/lib/python3.8/site-packages (from streamlit==0.85.0->-r /workspace/cd-prediction-pp5/requirements.txt (line 1)) (10.3.0)\n",
            "Requirement already satisfied: protobuf!=3.11,>=3.6.0 in /workspace/.pip-modules/lib/python3.8/site-packages (from streamlit==0.85.0->-r /workspace/cd-prediction-pp5/requirements.txt (line 1)) (5.27.1)\n",
            "Requirement already satisfied: pyarrow in /workspace/.pip-modules/lib/python3.8/site-packages (from streamlit==0.85.0->-r /workspace/cd-prediction-pp5/requirements.txt (line 1)) (16.1.0)\n",
            "Requirement already satisfied: pydeck>=0.1.dev5 in /workspace/.pip-modules/lib/python3.8/site-packages (from streamlit==0.85.0->-r /workspace/cd-prediction-pp5/requirements.txt (line 1)) (0.9.1)\n",
            "Requirement already satisfied: python-dateutil in /home/gitpod/.pyenv/versions/3.8.18/lib/python3.8/site-packages (from streamlit==0.85.0->-r /workspace/cd-prediction-pp5/requirements.txt (line 1)) (2.9.0.post0)\n",
            "Requirement already satisfied: requests in /home/gitpod/.pyenv/versions/3.8.18/lib/python3.8/site-packages (from streamlit==0.85.0->-r /workspace/cd-prediction-pp5/requirements.txt (line 1)) (2.32.3)\n",
            "Requirement already satisfied: toml in /workspace/.pip-modules/lib/python3.8/site-packages (from streamlit==0.85.0->-r /workspace/cd-prediction-pp5/requirements.txt (line 1)) (0.10.2)\n",
            "Requirement already satisfied: tornado>=5.0 in /home/gitpod/.pyenv/versions/3.8.18/lib/python3.8/site-packages (from streamlit==0.85.0->-r /workspace/cd-prediction-pp5/requirements.txt (line 1)) (6.4.1)\n",
            "Requirement already satisfied: tzlocal in /workspace/.pip-modules/lib/python3.8/site-packages (from streamlit==0.85.0->-r /workspace/cd-prediction-pp5/requirements.txt (line 1)) (5.2)\n",
            "Requirement already satisfied: validators in /workspace/.pip-modules/lib/python3.8/site-packages (from streamlit==0.85.0->-r /workspace/cd-prediction-pp5/requirements.txt (line 1)) (0.28.3)\n",
            "Requirement already satisfied: gitpython in /workspace/.pip-modules/lib/python3.8/site-packages (from streamlit==0.85.0->-r /workspace/cd-prediction-pp5/requirements.txt (line 1)) (3.1.43)\n",
            "Requirement already satisfied: watchdog in /workspace/.pip-modules/lib/python3.8/site-packages (from streamlit==0.85.0->-r /workspace/cd-prediction-pp5/requirements.txt (line 1)) (4.0.1)\n",
            "Requirement already satisfied: pytz>=2020.1 in /home/gitpod/.pyenv/versions/3.8.18/lib/python3.8/site-packages (from pandas==1.4.2->-r /workspace/cd-prediction-pp5/requirements.txt (line 5)) (2024.1)\n",
            "Requirement already satisfied: certifi>=2020.06.20 in /home/gitpod/.pyenv/versions/3.8.18/lib/python3.8/site-packages (from matplotlib==3.3.1->-r /workspace/cd-prediction-pp5/requirements.txt (line 6)) (2024.6.2)\n",
            "Requirement already satisfied: cycler>=0.10 in /workspace/.pip-modules/lib/python3.8/site-packages (from matplotlib==3.3.1->-r /workspace/cd-prediction-pp5/requirements.txt (line 6)) (0.12.1)\n",
            "Requirement already satisfied: kiwisolver>=1.0.1 in /workspace/.pip-modules/lib/python3.8/site-packages (from matplotlib==3.3.1->-r /workspace/cd-prediction-pp5/requirements.txt (line 6)) (1.4.5)\n",
            "Requirement already satisfied: pyparsing!=2.0.4,!=2.1.2,!=2.1.6,>=2.0.3 in /workspace/.pip-modules/lib/python3.8/site-packages (from matplotlib==3.3.1->-r /workspace/cd-prediction-pp5/requirements.txt (line 6)) (3.1.2)\n",
            "Requirement already satisfied: scipy>=1.0 in /workspace/.pip-modules/lib/python3.8/site-packages (from seaborn==0.11.0->-r /workspace/cd-prediction-pp5/requirements.txt (line 7)) (1.9.3)\n",
            "Requirement already satisfied: pydantic<2,>=1.8.1 in /workspace/.pip-modules/lib/python3.8/site-packages (from ydata-profiling==4.4.0->-r /workspace/cd-prediction-pp5/requirements.txt (line 9)) (1.10.17)\n",
            "Requirement already satisfied: PyYAML<6.1,>=5.0.0 in /home/gitpod/.pyenv/versions/3.8.18/lib/python3.8/site-packages (from ydata-profiling==4.4.0->-r /workspace/cd-prediction-pp5/requirements.txt (line 9)) (6.0.1)\n",
            "Requirement already satisfied: jinja2<3.2,>=2.11.1 in /home/gitpod/.pyenv/versions/3.8.18/lib/python3.8/site-packages (from ydata-profiling==4.4.0->-r /workspace/cd-prediction-pp5/requirements.txt (line 9)) (3.1.4)\n",
            "Requirement already satisfied: visions==0.7.5 in /workspace/.pip-modules/lib/python3.8/site-packages (from visions[type_image_path]==0.7.5->ydata-profiling==4.4.0->-r /workspace/cd-prediction-pp5/requirements.txt (line 9)) (0.7.5)\n",
            "Requirement already satisfied: htmlmin==0.1.12 in /workspace/.pip-modules/lib/python3.8/site-packages (from ydata-profiling==4.4.0->-r /workspace/cd-prediction-pp5/requirements.txt (line 9)) (0.1.12)\n",
            "Requirement already satisfied: phik<0.13,>=0.11.1 in /workspace/.pip-modules/lib/python3.8/site-packages (from ydata-profiling==4.4.0->-r /workspace/cd-prediction-pp5/requirements.txt (line 9)) (0.12.4)\n",
            "Requirement already satisfied: tqdm<5,>=4.48.2 in /workspace/.pip-modules/lib/python3.8/site-packages (from ydata-profiling==4.4.0->-r /workspace/cd-prediction-pp5/requirements.txt (line 9)) (4.66.4)\n",
            "Requirement already satisfied: multimethod<2,>=1.4 in /workspace/.pip-modules/lib/python3.8/site-packages (from ydata-profiling==4.4.0->-r /workspace/cd-prediction-pp5/requirements.txt (line 9)) (1.10)\n",
            "Requirement already satisfied: statsmodels<1,>=0.13.2 in /workspace/.pip-modules/lib/python3.8/site-packages (from ydata-profiling==4.4.0->-r /workspace/cd-prediction-pp5/requirements.txt (line 9)) (0.14.1)\n",
            "Requirement already satisfied: typeguard<3,>=2.13.2 in /workspace/.pip-modules/lib/python3.8/site-packages (from ydata-profiling==4.4.0->-r /workspace/cd-prediction-pp5/requirements.txt (line 9)) (2.13.3)\n",
            "Requirement already satisfied: imagehash==4.3.1 in /workspace/.pip-modules/lib/python3.8/site-packages (from ydata-profiling==4.4.0->-r /workspace/cd-prediction-pp5/requirements.txt (line 9)) (4.3.1)\n",
            "Requirement already satisfied: wordcloud>=1.9.1 in /workspace/.pip-modules/lib/python3.8/site-packages (from ydata-profiling==4.4.0->-r /workspace/cd-prediction-pp5/requirements.txt (line 9)) (1.9.3)\n",
            "Requirement already satisfied: dacite>=1.8 in /workspace/.pip-modules/lib/python3.8/site-packages (from ydata-profiling==4.4.0->-r /workspace/cd-prediction-pp5/requirements.txt (line 9)) (1.8.1)\n",
            "Requirement already satisfied: ipykernel>=4.5.1 in /home/gitpod/.pyenv/versions/3.8.18/lib/python3.8/site-packages (from ipywidgets==8.0.2->-r /workspace/cd-prediction-pp5/requirements.txt (line 10)) (6.29.4)\n",
            "Requirement already satisfied: ipython>=6.1.0 in /home/gitpod/.pyenv/versions/3.8.18/lib/python3.8/site-packages (from ipywidgets==8.0.2->-r /workspace/cd-prediction-pp5/requirements.txt (line 10)) (8.12.3)\n",
            "Requirement already satisfied: traitlets>=4.3.1 in /home/gitpod/.pyenv/versions/3.8.18/lib/python3.8/site-packages (from ipywidgets==8.0.2->-r /workspace/cd-prediction-pp5/requirements.txt (line 10)) (5.14.3)\n",
            "Requirement already satisfied: widgetsnbextension~=4.0 in /workspace/.pip-modules/lib/python3.8/site-packages (from ipywidgets==8.0.2->-r /workspace/cd-prediction-pp5/requirements.txt (line 10)) (4.0.11)\n",
            "Requirement already satisfied: jupyterlab-widgets~=3.0 in /workspace/.pip-modules/lib/python3.8/site-packages (from ipywidgets==8.0.2->-r /workspace/cd-prediction-pp5/requirements.txt (line 10)) (3.0.11)\n",
            "Requirement already satisfied: PyWavelets in /workspace/.pip-modules/lib/python3.8/site-packages (from imagehash==4.3.1->ydata-profiling==4.4.0->-r /workspace/cd-prediction-pp5/requirements.txt (line 9)) (1.4.1)\n",
            "Requirement already satisfied: networkx>=2.4 in /workspace/.pip-modules/lib/python3.8/site-packages (from visions==0.7.5->visions[type_image_path]==0.7.5->ydata-profiling==4.4.0->-r /workspace/cd-prediction-pp5/requirements.txt (line 9)) (3.1)\n",
            "Requirement already satisfied: tangled-up-in-unicode>=0.0.4 in /workspace/.pip-modules/lib/python3.8/site-packages (from visions==0.7.5->visions[type_image_path]==0.7.5->ydata-profiling==4.4.0->-r /workspace/cd-prediction-pp5/requirements.txt (line 9)) (0.2.0)\n",
            "\u001b[33mWARNING: visions 0.7.5 does not provide the extra 'type-image-path'\u001b[0m\u001b[33m\n",
            "\u001b[0mRequirement already satisfied: entrypoints in /workspace/.pip-modules/lib/python3.8/site-packages (from altair<5->-r /workspace/cd-prediction-pp5/requirements.txt (line 2)) (0.4)\n",
            "Requirement already satisfied: jsonschema>=3.0 in /home/gitpod/.pyenv/versions/3.8.18/lib/python3.8/site-packages (from altair<5->-r /workspace/cd-prediction-pp5/requirements.txt (line 2)) (4.22.0)\n",
            "Requirement already satisfied: toolz in /workspace/.pip-modules/lib/python3.8/site-packages (from altair<5->-r /workspace/cd-prediction-pp5/requirements.txt (line 2)) (0.12.1)\n",
            "Requirement already satisfied: comm>=0.1.1 in /home/gitpod/.pyenv/versions/3.8.18/lib/python3.8/site-packages (from ipykernel>=4.5.1->ipywidgets==8.0.2->-r /workspace/cd-prediction-pp5/requirements.txt (line 10)) (0.2.2)\n",
            "Requirement already satisfied: debugpy>=1.6.5 in /home/gitpod/.pyenv/versions/3.8.18/lib/python3.8/site-packages (from ipykernel>=4.5.1->ipywidgets==8.0.2->-r /workspace/cd-prediction-pp5/requirements.txt (line 10)) (1.8.1)\n",
            "Requirement already satisfied: jupyter-client>=6.1.12 in /home/gitpod/.pyenv/versions/3.8.18/lib/python3.8/site-packages (from ipykernel>=4.5.1->ipywidgets==8.0.2->-r /workspace/cd-prediction-pp5/requirements.txt (line 10)) (8.6.2)\n",
            "Requirement already satisfied: jupyter-core!=5.0.*,>=4.12 in /home/gitpod/.pyenv/versions/3.8.18/lib/python3.8/site-packages (from ipykernel>=4.5.1->ipywidgets==8.0.2->-r /workspace/cd-prediction-pp5/requirements.txt (line 10)) (5.7.2)\n",
            "Requirement already satisfied: matplotlib-inline>=0.1 in /home/gitpod/.pyenv/versions/3.8.18/lib/python3.8/site-packages (from ipykernel>=4.5.1->ipywidgets==8.0.2->-r /workspace/cd-prediction-pp5/requirements.txt (line 10)) (0.1.7)\n",
            "Requirement already satisfied: nest-asyncio in /home/gitpod/.pyenv/versions/3.8.18/lib/python3.8/site-packages (from ipykernel>=4.5.1->ipywidgets==8.0.2->-r /workspace/cd-prediction-pp5/requirements.txt (line 10)) (1.6.0)\n",
            "Requirement already satisfied: psutil in /home/gitpod/.pyenv/versions/3.8.18/lib/python3.8/site-packages (from ipykernel>=4.5.1->ipywidgets==8.0.2->-r /workspace/cd-prediction-pp5/requirements.txt (line 10)) (6.0.0)\n",
            "Requirement already satisfied: pyzmq>=24 in /home/gitpod/.pyenv/versions/3.8.18/lib/python3.8/site-packages (from ipykernel>=4.5.1->ipywidgets==8.0.2->-r /workspace/cd-prediction-pp5/requirements.txt (line 10)) (26.0.3)\n",
            "Requirement already satisfied: backcall in /home/gitpod/.pyenv/versions/3.8.18/lib/python3.8/site-packages (from ipython>=6.1.0->ipywidgets==8.0.2->-r /workspace/cd-prediction-pp5/requirements.txt (line 10)) (0.2.0)\n",
            "Requirement already satisfied: decorator in /home/gitpod/.pyenv/versions/3.8.18/lib/python3.8/site-packages (from ipython>=6.1.0->ipywidgets==8.0.2->-r /workspace/cd-prediction-pp5/requirements.txt (line 10)) (5.1.1)\n",
            "Requirement already satisfied: jedi>=0.16 in /home/gitpod/.pyenv/versions/3.8.18/lib/python3.8/site-packages (from ipython>=6.1.0->ipywidgets==8.0.2->-r /workspace/cd-prediction-pp5/requirements.txt (line 10)) (0.19.1)\n",
            "Requirement already satisfied: pickleshare in /home/gitpod/.pyenv/versions/3.8.18/lib/python3.8/site-packages (from ipython>=6.1.0->ipywidgets==8.0.2->-r /workspace/cd-prediction-pp5/requirements.txt (line 10)) (0.7.5)\n",
            "Requirement already satisfied: prompt-toolkit!=3.0.37,<3.1.0,>=3.0.30 in /home/gitpod/.pyenv/versions/3.8.18/lib/python3.8/site-packages (from ipython>=6.1.0->ipywidgets==8.0.2->-r /workspace/cd-prediction-pp5/requirements.txt (line 10)) (3.0.47)\n",
            "Requirement already satisfied: pygments>=2.4.0 in /home/gitpod/.pyenv/versions/3.8.18/lib/python3.8/site-packages (from ipython>=6.1.0->ipywidgets==8.0.2->-r /workspace/cd-prediction-pp5/requirements.txt (line 10)) (2.18.0)\n",
            "Requirement already satisfied: stack-data in /home/gitpod/.pyenv/versions/3.8.18/lib/python3.8/site-packages (from ipython>=6.1.0->ipywidgets==8.0.2->-r /workspace/cd-prediction-pp5/requirements.txt (line 10)) (0.6.3)\n",
            "Requirement already satisfied: typing-extensions in /home/gitpod/.pyenv/versions/3.8.18/lib/python3.8/site-packages (from ipython>=6.1.0->ipywidgets==8.0.2->-r /workspace/cd-prediction-pp5/requirements.txt (line 10)) (4.12.2)\n",
            "Requirement already satisfied: pexpect>4.3 in /home/gitpod/.pyenv/versions/3.8.18/lib/python3.8/site-packages (from ipython>=6.1.0->ipywidgets==8.0.2->-r /workspace/cd-prediction-pp5/requirements.txt (line 10)) (4.9.0)\n",
            "Requirement already satisfied: MarkupSafe>=2.0 in /home/gitpod/.pyenv/versions/3.8.18/lib/python3.8/site-packages (from jinja2<3.2,>=2.11.1->ydata-profiling==4.4.0->-r /workspace/cd-prediction-pp5/requirements.txt (line 9)) (2.1.5)\n",
            "Requirement already satisfied: importlib-resources>=1.4.0 in /home/gitpod/.pyenv/versions/3.8.18/lib/python3.8/site-packages (from jsonschema>=3.0->altair<5->-r /workspace/cd-prediction-pp5/requirements.txt (line 2)) (6.4.0)\n",
            "Requirement already satisfied: jsonschema-specifications>=2023.03.6 in /home/gitpod/.pyenv/versions/3.8.18/lib/python3.8/site-packages (from jsonschema>=3.0->altair<5->-r /workspace/cd-prediction-pp5/requirements.txt (line 2)) (2023.12.1)\n",
            "Requirement already satisfied: pkgutil-resolve-name>=1.3.10 in /home/gitpod/.pyenv/versions/3.8.18/lib/python3.8/site-packages (from jsonschema>=3.0->altair<5->-r /workspace/cd-prediction-pp5/requirements.txt (line 2)) (1.3.10)\n",
            "Requirement already satisfied: referencing>=0.28.4 in /home/gitpod/.pyenv/versions/3.8.18/lib/python3.8/site-packages (from jsonschema>=3.0->altair<5->-r /workspace/cd-prediction-pp5/requirements.txt (line 2)) (0.35.1)\n",
            "Requirement already satisfied: rpds-py>=0.7.1 in /home/gitpod/.pyenv/versions/3.8.18/lib/python3.8/site-packages (from jsonschema>=3.0->altair<5->-r /workspace/cd-prediction-pp5/requirements.txt (line 2)) (0.18.1)\n",
            "Requirement already satisfied: joblib>=0.14.1 in /workspace/.pip-modules/lib/python3.8/site-packages (from phik<0.13,>=0.11.1->ydata-profiling==4.4.0->-r /workspace/cd-prediction-pp5/requirements.txt (line 9)) (1.4.2)\n",
            "Requirement already satisfied: six>=1.5 in /home/gitpod/.pyenv/versions/3.8.18/lib/python3.8/site-packages (from python-dateutil->streamlit==0.85.0->-r /workspace/cd-prediction-pp5/requirements.txt (line 1)) (1.16.0)\n",
            "Requirement already satisfied: charset-normalizer<4,>=2 in /home/gitpod/.pyenv/versions/3.8.18/lib/python3.8/site-packages (from requests->streamlit==0.85.0->-r /workspace/cd-prediction-pp5/requirements.txt (line 1)) (3.3.2)\n",
            "Requirement already satisfied: idna<4,>=2.5 in /home/gitpod/.pyenv/versions/3.8.18/lib/python3.8/site-packages (from requests->streamlit==0.85.0->-r /workspace/cd-prediction-pp5/requirements.txt (line 1)) (3.7)\n",
            "Requirement already satisfied: urllib3<3,>=1.21.1 in /home/gitpod/.pyenv/versions/3.8.18/lib/python3.8/site-packages (from requests->streamlit==0.85.0->-r /workspace/cd-prediction-pp5/requirements.txt (line 1)) (2.2.2)\n",
            "Requirement already satisfied: patsy>=0.5.4 in /workspace/.pip-modules/lib/python3.8/site-packages (from statsmodels<1,>=0.13.2->ydata-profiling==4.4.0->-r /workspace/cd-prediction-pp5/requirements.txt (line 9)) (0.5.6)\n",
            "Requirement already satisfied: gitdb<5,>=4.0.1 in /workspace/.pip-modules/lib/python3.8/site-packages (from gitpython->streamlit==0.85.0->-r /workspace/cd-prediction-pp5/requirements.txt (line 1)) (4.0.11)\n",
            "Requirement already satisfied: backports.zoneinfo in /workspace/.pip-modules/lib/python3.8/site-packages (from tzlocal->streamlit==0.85.0->-r /workspace/cd-prediction-pp5/requirements.txt (line 1)) (0.2.1)\n",
            "Requirement already satisfied: smmap<6,>=3.0.1 in /workspace/.pip-modules/lib/python3.8/site-packages (from gitdb<5,>=4.0.1->gitpython->streamlit==0.85.0->-r /workspace/cd-prediction-pp5/requirements.txt (line 1)) (5.0.1)\n",
            "Requirement already satisfied: zipp>=3.1.0 in /home/gitpod/.pyenv/versions/3.8.18/lib/python3.8/site-packages (from importlib-resources>=1.4.0->jsonschema>=3.0->altair<5->-r /workspace/cd-prediction-pp5/requirements.txt (line 2)) (3.19.2)\n",
            "Requirement already satisfied: parso<0.9.0,>=0.8.3 in /home/gitpod/.pyenv/versions/3.8.18/lib/python3.8/site-packages (from jedi>=0.16->ipython>=6.1.0->ipywidgets==8.0.2->-r /workspace/cd-prediction-pp5/requirements.txt (line 10)) (0.8.4)\n",
            "Requirement already satisfied: importlib-metadata>=4.8.3 in /home/gitpod/.pyenv/versions/3.8.18/lib/python3.8/site-packages (from jupyter-client>=6.1.12->ipykernel>=4.5.1->ipywidgets==8.0.2->-r /workspace/cd-prediction-pp5/requirements.txt (line 10)) (7.1.0)\n",
            "Requirement already satisfied: platformdirs>=2.5 in /home/gitpod/.pyenv/versions/3.8.18/lib/python3.8/site-packages (from jupyter-core!=5.0.*,>=4.12->ipykernel>=4.5.1->ipywidgets==8.0.2->-r /workspace/cd-prediction-pp5/requirements.txt (line 10)) (4.2.2)\n",
            "Requirement already satisfied: ptyprocess>=0.5 in /home/gitpod/.pyenv/versions/3.8.18/lib/python3.8/site-packages (from pexpect>4.3->ipython>=6.1.0->ipywidgets==8.0.2->-r /workspace/cd-prediction-pp5/requirements.txt (line 10)) (0.7.0)\n",
            "Requirement already satisfied: wcwidth in /home/gitpod/.pyenv/versions/3.8.18/lib/python3.8/site-packages (from prompt-toolkit!=3.0.37,<3.1.0,>=3.0.30->ipython>=6.1.0->ipywidgets==8.0.2->-r /workspace/cd-prediction-pp5/requirements.txt (line 10)) (0.2.13)\n",
            "Requirement already satisfied: executing>=1.2.0 in /home/gitpod/.pyenv/versions/3.8.18/lib/python3.8/site-packages (from stack-data->ipython>=6.1.0->ipywidgets==8.0.2->-r /workspace/cd-prediction-pp5/requirements.txt (line 10)) (2.0.1)\n",
            "Requirement already satisfied: asttokens>=2.1.0 in /home/gitpod/.pyenv/versions/3.8.18/lib/python3.8/site-packages (from stack-data->ipython>=6.1.0->ipywidgets==8.0.2->-r /workspace/cd-prediction-pp5/requirements.txt (line 10)) (2.4.1)\n",
            "Requirement already satisfied: pure-eval in /home/gitpod/.pyenv/versions/3.8.18/lib/python3.8/site-packages (from stack-data->ipython>=6.1.0->ipywidgets==8.0.2->-r /workspace/cd-prediction-pp5/requirements.txt (line 10)) (0.2.2)\n",
            "\n",
            "\u001b[1m[\u001b[0m\u001b[34;49mnotice\u001b[0m\u001b[1;39;49m]\u001b[0m\u001b[39;49m A new release of pip is available: \u001b[0m\u001b[31;49m24.0\u001b[0m\u001b[39;49m -> \u001b[0m\u001b[32;49m24.1\u001b[0m\n",
            "\u001b[1m[\u001b[0m\u001b[34;49mnotice\u001b[0m\u001b[1;39;49m]\u001b[0m\u001b[39;49m To update, run: \u001b[0m\u001b[32;49mpip install --upgrade pip\u001b[0m\n",
            "Note: you may need to restart the kernel to use updated packages.\n"
          ]
        }
      ],
      "source": [
        "%pip install -r /workspace/cd-prediction-pp5/requirements.txt"
      ]
    },
    {
      "cell_type": "markdown",
      "metadata": {
        "id": "aOGIGS-uz3i2"
      },
      "source": [
        "When running the notebook in the editor, we need to change the working directory from its current folder to its parent folder.\n",
        "* We access the current directory with os.getcwd()"
      ]
    },
    {
      "cell_type": "code",
      "execution_count": 2,
      "metadata": {
        "id": "wZfF_j-Bz3i4",
        "outputId": "66943449-1436-4c3d-85c7-b85f9f78349b"
      },
      "outputs": [
        {
          "data": {
            "text/plain": [
              "'/workspace/cd-prediction-pp5/jupyter_notebooks'"
            ]
          },
          "execution_count": 2,
          "metadata": {},
          "output_type": "execute_result"
        }
      ],
      "source": [
        "import os\n",
        "current_dir = os.getcwd()\n",
        "current_dir"
      ]
    },
    {
      "cell_type": "markdown",
      "metadata": {
        "id": "9MWW8E7lz3i7"
      },
      "source": [
        "We want to make the parent of the current directory the new current directory\n",
        "* os.path.dirname() gets the parent directory\n",
        "* os.chir() defines the new current directory"
      ]
    },
    {
      "cell_type": "code",
      "execution_count": 3,
      "metadata": {
        "id": "TwHsQRWjz3i9",
        "outputId": "86849db3-cd2f-4cc5-ebb8-2d0caafa1a2c"
      },
      "outputs": [
        {
          "name": "stdout",
          "output_type": "stream",
          "text": [
            "You set a new current directory\n"
          ]
        }
      ],
      "source": [
        "os.chdir(os.path.dirname(current_dir))\n",
        "print(\"You set a new current directory\")"
      ]
    },
    {
      "cell_type": "markdown",
      "metadata": {
        "id": "M_xPk_Ijz3i-"
      },
      "source": [
        "Confirm the new current directory"
      ]
    },
    {
      "cell_type": "code",
      "execution_count": 4,
      "metadata": {
        "id": "vz3S-_kjz3jA",
        "outputId": "00b79ae4-75d0-4a96-d193-ac9ef9847ea2"
      },
      "outputs": [
        {
          "data": {
            "text/plain": [
              "'/workspace/cd-prediction-pp5'"
            ]
          },
          "execution_count": 4,
          "metadata": {},
          "output_type": "execute_result"
        }
      ],
      "source": [
        "current_dir = os.getcwd()\n",
        "current_dir"
      ]
    },
    {
      "cell_type": "markdown",
      "metadata": {
        "id": "-mavJ8DibrcQ"
      },
      "source": [
        "# Data acquisition from Kaggle"
      ]
    },
    {
      "cell_type": "markdown",
      "metadata": {},
      "source": [
        "Install Kaggle package to fetch data."
      ]
    },
    {
      "cell_type": "code",
      "execution_count": 5,
      "metadata": {},
      "outputs": [
        {
          "name": "stdout",
          "output_type": "stream",
          "text": [
            "Requirement already satisfied: kaggle==1.5.12 in /workspace/.pip-modules/lib/python3.8/site-packages (1.5.12)\n",
            "Requirement already satisfied: six>=1.10 in /home/gitpod/.pyenv/versions/3.8.18/lib/python3.8/site-packages (from kaggle==1.5.12) (1.16.0)\n",
            "Requirement already satisfied: certifi in /home/gitpod/.pyenv/versions/3.8.18/lib/python3.8/site-packages (from kaggle==1.5.12) (2024.6.2)\n",
            "Requirement already satisfied: python-dateutil in /home/gitpod/.pyenv/versions/3.8.18/lib/python3.8/site-packages (from kaggle==1.5.12) (2.9.0.post0)\n",
            "Requirement already satisfied: requests in /home/gitpod/.pyenv/versions/3.8.18/lib/python3.8/site-packages (from kaggle==1.5.12) (2.32.3)\n",
            "Requirement already satisfied: tqdm in /workspace/.pip-modules/lib/python3.8/site-packages (from kaggle==1.5.12) (4.66.4)\n",
            "Requirement already satisfied: python-slugify in /workspace/.pip-modules/lib/python3.8/site-packages (from kaggle==1.5.12) (8.0.4)\n",
            "Requirement already satisfied: urllib3 in /home/gitpod/.pyenv/versions/3.8.18/lib/python3.8/site-packages (from kaggle==1.5.12) (2.2.2)\n",
            "Requirement already satisfied: text-unidecode>=1.3 in /workspace/.pip-modules/lib/python3.8/site-packages (from python-slugify->kaggle==1.5.12) (1.3)\n",
            "Requirement already satisfied: charset-normalizer<4,>=2 in /home/gitpod/.pyenv/versions/3.8.18/lib/python3.8/site-packages (from requests->kaggle==1.5.12) (3.3.2)\n",
            "Requirement already satisfied: idna<4,>=2.5 in /home/gitpod/.pyenv/versions/3.8.18/lib/python3.8/site-packages (from requests->kaggle==1.5.12) (3.7)\n",
            "\n",
            "\u001b[1m[\u001b[0m\u001b[34;49mnotice\u001b[0m\u001b[1;39;49m]\u001b[0m\u001b[39;49m A new release of pip is available: \u001b[0m\u001b[31;49m24.0\u001b[0m\u001b[39;49m -> \u001b[0m\u001b[32;49m24.1\u001b[0m\n",
            "\u001b[1m[\u001b[0m\u001b[34;49mnotice\u001b[0m\u001b[1;39;49m]\u001b[0m\u001b[39;49m To update, run: \u001b[0m\u001b[32;49mpip install --upgrade pip\u001b[0m\n",
            "Note: you may need to restart the kernel to use updated packages.\n"
          ]
        }
      ],
      "source": [
        "%pip install kaggle==1.5.12"
      ]
    },
    {
      "cell_type": "markdown",
      "metadata": {},
      "source": [
        "* In order to download the data a personal authentication token (JSON file) is needed to authenticate Kaggle. You can aquire one by signin up to Kaggle.\n",
        "\n",
        "* Once you have your token, drag and drop the file into the directory and then run the following:"
      ]
    },
    {
      "cell_type": "code",
      "execution_count": 6,
      "metadata": {},
      "outputs": [
        {
          "name": "stdout",
          "output_type": "stream",
          "text": [
            "chmod: cannot access 'kaggle.json': No such file or directory\n"
          ]
        }
      ],
      "source": [
        "import os\n",
        "os.environ['KAGGLE_CONFIG_DIR'] = os.getcwd()\n",
        "! chmod 600 kaggle.json"
      ]
    },
    {
      "cell_type": "markdown",
      "metadata": {},
      "source": [
        "* Get the dataset path from the Kaggle url\n",
        "\n",
        "* Define the Kaggle dataset, and destination folder and download it."
      ]
    },
    {
      "cell_type": "code",
      "execution_count": 7,
      "metadata": {},
      "outputs": [
        {
          "name": "stdout",
          "output_type": "stream",
          "text": [
            "Traceback (most recent call last):\n",
            "  File \"/workspace/.pip-modules/bin/kaggle\", line 5, in <module>\n",
            "    from kaggle.cli import main\n",
            "  File \"/workspace/.pip-modules/lib/python3.8/site-packages/kaggle/__init__.py\", line 23, in <module>\n",
            "    api.authenticate()\n",
            "  File \"/workspace/.pip-modules/lib/python3.8/site-packages/kaggle/api/kaggle_api_extended.py\", line 164, in authenticate\n",
            "    raise IOError('Could not find {}. Make sure it\\'s located in'\n",
            "OSError: Could not find kaggle.json. Make sure it's located in /workspace/cd-prediction-pp5. Or use the environment method.\n"
          ]
        }
      ],
      "source": [
        "KaggleDatasetPath = \"jocelyndumlao/cardiovascular-disease-dataset\"\n",
        "DestinationFolder = \"inputs/datasets/raw\"   \n",
        "! kaggle datasets download -d {KaggleDatasetPath} -p {DestinationFolder}"
      ]
    },
    {
      "cell_type": "markdown",
      "metadata": {},
      "source": [
        "* Unzip the downloaded file, delete the zip file and delete the kaggle.json file\n",
        "* Remove pdf file"
      ]
    },
    {
      "cell_type": "code",
      "execution_count": null,
      "metadata": {},
      "outputs": [],
      "source": [
        "! unzip {DestinationFolder}/*.zip -d {DestinationFolder} \\\n",
        "  && rm {DestinationFolder}/*.zip \\\n",
        "  && rm {DestinationFolder}/*.pdf \\\n",
        "  && rm kaggle.json"
      ]
    },
    {
      "cell_type": "markdown",
      "metadata": {},
      "source": [
        "* Move the csv file to designated folder and remove the redundant layer in pathing"
      ]
    },
    {
      "cell_type": "code",
      "execution_count": null,
      "metadata": {},
      "outputs": [],
      "source": [
        "os.rename(\n",
        "    \"inputs/datasets/raw/Cardiovascular_Disease_Dataset/Cardiovascular_Disease_Dataset.csv\",\n",
        "    \"inputs/datasets/raw/Cardiovascular_Disease_Dataset.csv\")\n",
        "os.rmdir(\"inputs/datasets/raw/Cardiovascular_Disease_Dataset\")"
      ]
    },
    {
      "cell_type": "markdown",
      "metadata": {
        "id": "ZY3l0-AxO93d"
      },
      "source": [
        "---"
      ]
    },
    {
      "cell_type": "markdown",
      "metadata": {
        "id": "uFQo3ycuO-v6"
      },
      "source": [
        "## Load and Inspect Kaggle Data"
      ]
    },
    {
      "cell_type": "code",
      "execution_count": 8,
      "metadata": {},
      "outputs": [
        {
          "data": {
            "text/html": [
              "<div>\n",
              "<style scoped>\n",
              "    .dataframe tbody tr th:only-of-type {\n",
              "        vertical-align: middle;\n",
              "    }\n",
              "\n",
              "    .dataframe tbody tr th {\n",
              "        vertical-align: top;\n",
              "    }\n",
              "\n",
              "    .dataframe thead th {\n",
              "        text-align: right;\n",
              "    }\n",
              "</style>\n",
              "<table border=\"1\" class=\"dataframe\">\n",
              "  <thead>\n",
              "    <tr style=\"text-align: right;\">\n",
              "      <th></th>\n",
              "      <th>patientid</th>\n",
              "      <th>age</th>\n",
              "      <th>gender</th>\n",
              "      <th>chestpain</th>\n",
              "      <th>restingBP</th>\n",
              "      <th>serumcholestrol</th>\n",
              "      <th>fastingbloodsugar</th>\n",
              "      <th>restingrelectro</th>\n",
              "      <th>maxheartrate</th>\n",
              "      <th>exerciseangia</th>\n",
              "      <th>oldpeak</th>\n",
              "      <th>slope</th>\n",
              "      <th>noofmajorvessels</th>\n",
              "      <th>target</th>\n",
              "    </tr>\n",
              "  </thead>\n",
              "  <tbody>\n",
              "    <tr>\n",
              "      <th>0</th>\n",
              "      <td>103368</td>\n",
              "      <td>53</td>\n",
              "      <td>1</td>\n",
              "      <td>2</td>\n",
              "      <td>171</td>\n",
              "      <td>0</td>\n",
              "      <td>0</td>\n",
              "      <td>1</td>\n",
              "      <td>147</td>\n",
              "      <td>0</td>\n",
              "      <td>5.3</td>\n",
              "      <td>3</td>\n",
              "      <td>3</td>\n",
              "      <td>1</td>\n",
              "    </tr>\n",
              "    <tr>\n",
              "      <th>1</th>\n",
              "      <td>119250</td>\n",
              "      <td>40</td>\n",
              "      <td>1</td>\n",
              "      <td>0</td>\n",
              "      <td>94</td>\n",
              "      <td>229</td>\n",
              "      <td>0</td>\n",
              "      <td>1</td>\n",
              "      <td>115</td>\n",
              "      <td>0</td>\n",
              "      <td>3.7</td>\n",
              "      <td>1</td>\n",
              "      <td>1</td>\n",
              "      <td>0</td>\n",
              "    </tr>\n",
              "    <tr>\n",
              "      <th>2</th>\n",
              "      <td>119372</td>\n",
              "      <td>49</td>\n",
              "      <td>1</td>\n",
              "      <td>2</td>\n",
              "      <td>133</td>\n",
              "      <td>142</td>\n",
              "      <td>0</td>\n",
              "      <td>0</td>\n",
              "      <td>202</td>\n",
              "      <td>1</td>\n",
              "      <td>5.0</td>\n",
              "      <td>1</td>\n",
              "      <td>0</td>\n",
              "      <td>0</td>\n",
              "    </tr>\n",
              "    <tr>\n",
              "      <th>3</th>\n",
              "      <td>132514</td>\n",
              "      <td>43</td>\n",
              "      <td>1</td>\n",
              "      <td>0</td>\n",
              "      <td>138</td>\n",
              "      <td>295</td>\n",
              "      <td>1</td>\n",
              "      <td>1</td>\n",
              "      <td>153</td>\n",
              "      <td>0</td>\n",
              "      <td>3.2</td>\n",
              "      <td>2</td>\n",
              "      <td>2</td>\n",
              "      <td>1</td>\n",
              "    </tr>\n",
              "    <tr>\n",
              "      <th>4</th>\n",
              "      <td>146211</td>\n",
              "      <td>31</td>\n",
              "      <td>1</td>\n",
              "      <td>1</td>\n",
              "      <td>199</td>\n",
              "      <td>0</td>\n",
              "      <td>0</td>\n",
              "      <td>2</td>\n",
              "      <td>136</td>\n",
              "      <td>0</td>\n",
              "      <td>5.3</td>\n",
              "      <td>3</td>\n",
              "      <td>2</td>\n",
              "      <td>1</td>\n",
              "    </tr>\n",
              "    <tr>\n",
              "      <th>5</th>\n",
              "      <td>148462</td>\n",
              "      <td>24</td>\n",
              "      <td>1</td>\n",
              "      <td>1</td>\n",
              "      <td>173</td>\n",
              "      <td>0</td>\n",
              "      <td>0</td>\n",
              "      <td>0</td>\n",
              "      <td>161</td>\n",
              "      <td>0</td>\n",
              "      <td>4.7</td>\n",
              "      <td>3</td>\n",
              "      <td>2</td>\n",
              "      <td>1</td>\n",
              "    </tr>\n",
              "    <tr>\n",
              "      <th>6</th>\n",
              "      <td>168686</td>\n",
              "      <td>79</td>\n",
              "      <td>1</td>\n",
              "      <td>2</td>\n",
              "      <td>130</td>\n",
              "      <td>240</td>\n",
              "      <td>0</td>\n",
              "      <td>2</td>\n",
              "      <td>157</td>\n",
              "      <td>0</td>\n",
              "      <td>2.5</td>\n",
              "      <td>2</td>\n",
              "      <td>1</td>\n",
              "      <td>1</td>\n",
              "    </tr>\n",
              "    <tr>\n",
              "      <th>7</th>\n",
              "      <td>170498</td>\n",
              "      <td>52</td>\n",
              "      <td>1</td>\n",
              "      <td>0</td>\n",
              "      <td>127</td>\n",
              "      <td>345</td>\n",
              "      <td>0</td>\n",
              "      <td>0</td>\n",
              "      <td>192</td>\n",
              "      <td>1</td>\n",
              "      <td>4.9</td>\n",
              "      <td>1</td>\n",
              "      <td>0</td>\n",
              "      <td>0</td>\n",
              "    </tr>\n",
              "    <tr>\n",
              "      <th>8</th>\n",
              "      <td>188225</td>\n",
              "      <td>62</td>\n",
              "      <td>1</td>\n",
              "      <td>0</td>\n",
              "      <td>121</td>\n",
              "      <td>357</td>\n",
              "      <td>0</td>\n",
              "      <td>1</td>\n",
              "      <td>138</td>\n",
              "      <td>0</td>\n",
              "      <td>2.8</td>\n",
              "      <td>0</td>\n",
              "      <td>0</td>\n",
              "      <td>0</td>\n",
              "    </tr>\n",
              "    <tr>\n",
              "      <th>9</th>\n",
              "      <td>192523</td>\n",
              "      <td>61</td>\n",
              "      <td>0</td>\n",
              "      <td>0</td>\n",
              "      <td>190</td>\n",
              "      <td>181</td>\n",
              "      <td>0</td>\n",
              "      <td>1</td>\n",
              "      <td>150</td>\n",
              "      <td>0</td>\n",
              "      <td>2.9</td>\n",
              "      <td>2</td>\n",
              "      <td>0</td>\n",
              "      <td>1</td>\n",
              "    </tr>\n",
              "  </tbody>\n",
              "</table>\n",
              "</div>"
            ],
            "text/plain": [
              "   patientid  age  gender  chestpain  restingBP  serumcholestrol  \\\n",
              "0     103368   53       1          2        171                0   \n",
              "1     119250   40       1          0         94              229   \n",
              "2     119372   49       1          2        133              142   \n",
              "3     132514   43       1          0        138              295   \n",
              "4     146211   31       1          1        199                0   \n",
              "5     148462   24       1          1        173                0   \n",
              "6     168686   79       1          2        130              240   \n",
              "7     170498   52       1          0        127              345   \n",
              "8     188225   62       1          0        121              357   \n",
              "9     192523   61       0          0        190              181   \n",
              "\n",
              "   fastingbloodsugar  restingrelectro  maxheartrate  exerciseangia  oldpeak  \\\n",
              "0                  0                1           147              0      5.3   \n",
              "1                  0                1           115              0      3.7   \n",
              "2                  0                0           202              1      5.0   \n",
              "3                  1                1           153              0      3.2   \n",
              "4                  0                2           136              0      5.3   \n",
              "5                  0                0           161              0      4.7   \n",
              "6                  0                2           157              0      2.5   \n",
              "7                  0                0           192              1      4.9   \n",
              "8                  0                1           138              0      2.8   \n",
              "9                  0                1           150              0      2.9   \n",
              "\n",
              "   slope  noofmajorvessels  target  \n",
              "0      3                 3       1  \n",
              "1      1                 1       0  \n",
              "2      1                 0       0  \n",
              "3      2                 2       1  \n",
              "4      3                 2       1  \n",
              "5      3                 2       1  \n",
              "6      2                 1       1  \n",
              "7      1                 0       0  \n",
              "8      0                 0       0  \n",
              "9      2                 0       1  "
            ]
          },
          "execution_count": 8,
          "metadata": {},
          "output_type": "execute_result"
        }
      ],
      "source": [
        "import pandas as pd\n",
        "df = pd.read_csv(f\"inputs/datasets/raw/Cardiovascular_Disease_Dataset.csv\")\n",
        "df.head(10)"
      ]
    },
    {
      "cell_type": "markdown",
      "metadata": {},
      "source": [
        "* Data Frame Summary"
      ]
    },
    {
      "cell_type": "code",
      "execution_count": null,
      "metadata": {},
      "outputs": [],
      "source": [
        "df.info()"
      ]
    },
    {
      "cell_type": "markdown",
      "metadata": {},
      "source": [
        "* This is an index containing the meaning of all variables:\n",
        "\n",
        "    <img src=\"../static/images/abbreviations.png\" alt=\"abbreviations for Heart Disease data\" height=\"500\" />"
      ]
    },
    {
      "cell_type": "markdown",
      "metadata": {},
      "source": [
        "* We want to check for duplicates in the patientid column"
      ]
    },
    {
      "cell_type": "code",
      "execution_count": null,
      "metadata": {},
      "outputs": [],
      "source": [
        "df[df.duplicated(subset=['patientid'])]"
      ]
    },
    {
      "cell_type": "markdown",
      "metadata": {},
      "source": [
        "* We want to check for duplicates in the rest of the dataset"
      ]
    },
    {
      "cell_type": "code",
      "execution_count": null,
      "metadata": {},
      "outputs": [],
      "source": [
        "duplicate_count = df.duplicated().sum()\n",
        "\n",
        "if duplicate_count == 0:\n",
        "    print(\"There are no duplicates in the dataset\")\n",
        "else:\n",
        "    print(f\"There are {duplicate_count} duplicates in the dataset\")"
      ]
    },
    {
      "cell_type": "markdown",
      "metadata": {},
      "source": [
        "* We want to check for NaN values in the dataset"
      ]
    },
    {
      "cell_type": "code",
      "execution_count": null,
      "metadata": {},
      "outputs": [],
      "source": [
        "df.isna().sum()"
      ]
    },
    {
      "cell_type": "markdown",
      "metadata": {},
      "source": [
        "---"
      ]
    },
    {
      "cell_type": "markdown",
      "metadata": {
        "id": "ltNetd085qHf"
      },
      "source": [
        "# Push files to Repo"
      ]
    },
    {
      "cell_type": "markdown",
      "metadata": {},
      "source": [
        "* We will save Data Frame and remove it's index"
      ]
    },
    {
      "cell_type": "code",
      "execution_count": null,
      "metadata": {
        "id": "aKlnIozA4eQO",
        "outputId": "fd09bc1f-adb1-4511-f6ce-492a6af570c0"
      },
      "outputs": [],
      "source": [
        "import os\n",
        "try:\n",
        "  os.makedirs(name='outputs/datasets/collection') # create outputs/datasets/collection folder\n",
        "except Exception as e:\n",
        "  print(e)\n",
        "\n",
        "df.to_csv(f\"outputs/datasets/collection/Cardiovascular_Disease_Dataset.csv\",index=False)\n"
      ]
    }
  ],
  "metadata": {
    "accelerator": "GPU",
    "colab": {
      "name": "Data Practitioner Jupyter Notebook.ipynb",
      "provenance": [],
      "toc_visible": true
    },
    "interpreter": {
      "hash": "8b8334dab9339717f727a1deaf837b322d7a41c20d15cc86be99a8e69ceec8ce"
    },
    "kernelspec": {
      "display_name": "Python 3.8.12 64-bit ('3.8.12': pyenv)",
      "name": "python3"
    },
    "language_info": {
      "codemirror_mode": {
        "name": "ipython",
        "version": 3
      },
      "file_extension": ".py",
      "mimetype": "text/x-python",
      "name": "python",
      "nbconvert_exporter": "python",
      "pygments_lexer": "ipython3",
      "version": "3.8.18"
    },
    "orig_nbformat": 2
  },
  "nbformat": 4,
  "nbformat_minor": 2
}
